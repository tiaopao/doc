{
 "cells": [
  {
   "cell_type": "markdown",
   "metadata": {},
   "source": [
    "# TF Variables （变量）\n",
    "  \n",
    "  \n",
    "## tf.Variable是一个类（class)\n",
    " - 在run调用过程中， 变量维护图（graph）中的状态，可以创建一个Variable类的实例并增加到图中（graph)\n",
    " - Variable构造函数要求：变量的初始化值（任何type和shape的Tensor）, 在实例创建完成之后，Variable的type和shape固定不变，但变量的值可通过赋值方法修改\n",
    " - 常用于保存网络中需要学习的参数\n",
    " - 在使用变量值的操作中，必须先初始化变量\n",
    " - 变量初始化方法：\n",
    "  -  sess.run(w.initializer)  # Run the variable initializer.\n",
    "  - 初始化所有变量：使用global_variables_initializer()增加一个Op到图中\n",
    "    \n",
    "\n",
    "## tf.constant 与 tf.Variable的区别\n",
    " - tf.constant 是一个操作（op）\n",
    " - tf.Variable 是一个包含许多操作（ops)的类"
   ]
  },
  {
   "cell_type": "markdown",
   "metadata": {},
   "source": [
    "# Variable类构造函数 (tf.Variable)\n",
    "__init__(\n",
    "    initial_value=None,\n",
    "    trainable=True,\n",
    "    collections=None,\n",
    "    validate_shape=True,\n",
    "    caching_device=None,\n",
    "    name=None,\n",
    "    variable_def=None,\n",
    "    dtype=None,\n",
    "    expected_shape=None,\n",
    "    import_scope=None,\n",
    "    constraint=None\n",
    ")\n",
    "\n",
    "- 此构造函数把类实例（变量）增加到集合**GraphKeys.GLOBAL_VARIABLES** （可通过函数：global_variables() 获取）\n",
    "- 若trainable=True, 变量也被增加到集合 **GraphKeys.TRAINABLE_VARIABLES** （可通过函数：trainable_variables() 获取）"
   ]
  },
  {
   "cell_type": "markdown",
   "metadata": {},
   "source": [
    "# tf.get_variable\n",
    "tf.get_variable(\n",
    "    name,\n",
    "    shape=None,\n",
    "    dtype=None,\n",
    "    initializer=None,\n",
    "    regularizer=None,\n",
    "    trainable=True,\n",
    "    collections=None,\n",
    "    caching_device=None,\n",
    "    partitioner=None,\n",
    "    validate_shape=True,\n",
    "    use_resource=None,\n",
    "    custom_getter=None,\n",
    "    constraint=None\n",
    ")\n",
    " - 使用这些参数获取一个已经存在的变量或创建一个新的变量\n",
    " - a"
   ]
  },
  {
   "cell_type": "code",
   "execution_count": 4,
   "metadata": {},
   "outputs": [
    {
     "name": "stdout",
     "output_type": "stream",
     "text": [
      "Tensor(\"a_2:0\", shape=(5,), dtype=int32)\n",
      "140072133237616\n"
     ]
    }
   ],
   "source": [
    "import tensorflow as tf\n",
    "a = tf.constant([1, 2, 3, 4, 5], name='a')\n",
    "print(a)\n",
    "print(id(a))  # id()获取Tensor的地址"
   ]
  },
  {
   "cell_type": "code",
   "execution_count": null,
   "metadata": {},
   "outputs": [],
   "source": []
  }
 ],
 "metadata": {
  "kernelspec": {
   "display_name": "Python 3",
   "language": "python",
   "name": "python3"
  },
  "language_info": {
   "codemirror_mode": {
    "name": "ipython",
    "version": 3
   },
   "file_extension": ".py",
   "mimetype": "text/x-python",
   "name": "python",
   "nbconvert_exporter": "python",
   "pygments_lexer": "ipython3",
   "version": "3.5.2"
  }
 },
 "nbformat": 4,
 "nbformat_minor": 2
}
