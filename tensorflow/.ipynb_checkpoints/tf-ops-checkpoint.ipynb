{
 "cells": [
  {
   "cell_type": "markdown",
   "metadata": {},
   "source": [
    "# TensorFlow 程序和 TensorBoard初步使用\n"
   ]
  },
  {
   "cell_type": "code",
   "execution_count": 2,
   "metadata": {},
   "outputs": [
    {
     "name": "stdout",
     "output_type": "stream",
     "text": [
      "20\n"
     ]
    }
   ],
   "source": [
    "import tensorflow as tf\n",
    "a = tf.constant(5, name='a')\n",
    "b = tf.constant(15, name='b')\n",
    "x = tf.add(a, b, name='add')\n",
    "\n",
    "#writer = tf.summary.FileWriter('/home/ai/work/logdir', tf.get_default_graph())\n",
    "with tf.Session() as sess:\n",
    "    print(sess.run(x))\n",
    "\n",
    "#writer.close()\n"
   ]
  },
  {
   "cell_type": "markdown",
   "metadata": {},
   "source": [
    "# TensorFlow基本常量（Basic Constants）"
   ]
  },
  {
   "cell_type": "markdown",
   "metadata": {},
   "source": [
    "## 函数原型：\n",
    "### 元素相同的常量 \n",
    " - tf.constant(value, dtype=None, shape=None, name='Const', verify_shape=False)\n",
    " - tf.zeros(shape, dtype=tf.float32, name=None)\n",
    " - tf.zeros_like(input_sensor, dtype=None, name=None, optimize=True)\n",
    " - tf.ones(shape, dtype=tf.float32, name=None)\n",
    " - tf.ones_like(input_tesnsor, dtype=None, name=None, optimize=True)\n",
    " - tf.fill(dims, value, name=None)  # 使用标量值value填充tensor\n",
    "\n",
    "### 元素不相同的常量\n",
    " - tf.lin_space(start, stop, num, name=None)    # inluce  start and stop, delta = (stop - start)/(4-1)\n",
    " - tf.range(start, limit=None, delta=1, dtype=None, name='range')  # 生成的Tensor对象不能用于迭代中: for val in tr.range(4):  # TypeError\n"
   ]
  },
  {
   "cell_type": "code",
   "execution_count": 24,
   "metadata": {},
   "outputs": [
    {
     "name": "stdout",
     "output_type": "stream",
     "text": [
      "c=\n",
      "[3 4]\n",
      "\n",
      "d=\n",
      "[[0 1]\n",
      " [2 3]]\n",
      "\n",
      "y=\n",
      "[[ 0  4]\n",
      " [ 6 12]]\n",
      "\n",
      "z1=\n",
      "[[0 0 0 0 0]\n",
      " [0 0 0 0 0]\n",
      " [0 0 0 0 0]]\n",
      "\n",
      "z2=\n",
      "[[0 0]\n",
      " [0 0]]\n",
      "\n",
      "o1=\n",
      "[[1 1 1 1]\n",
      " [1 1 1 1]\n",
      " [1 1 1 1]]\n",
      "\n",
      "o2=\n",
      "[[1 1]\n",
      " [1 1]]\n",
      "\n",
      "o3=\n",
      "[[9 9]\n",
      " [9 9]\n",
      " [9 9]\n",
      " [9 9]\n",
      " [9 9]]\n",
      "\n",
      "lin1=\n",
      "[2.        3.3333335 4.666667  6.       ]\n",
      "\n",
      "lin2=\n",
      "[ 2  7 12 17]\n",
      "\n",
      "lin3=\n",
      "[0 1 2 3 4]\n",
      "\n"
     ]
    }
   ],
   "source": [
    "c = tf.constant([3, 4], name='c')\n",
    "d = tf.constant([[0, 1], [2, 3]], name='d')\n",
    "y = tf.multiply(c, d, name='mul')     # c 只有一行，按NumPy的广播原理扩展成2行\n",
    "\n",
    "z1 = tf.zeros([3,5], tf.int32)\n",
    "z2 = tf.zeros_like(d)\n",
    "\n",
    "o1 = tf.ones([3,4], tf.int32)\n",
    "o2 = tf.ones_like(d)\n",
    "\n",
    "o3 = tf.fill([5,2], 9)\n",
    "\n",
    "lin1 = tf.lin_space(2.0, 6.0, 4)  # include  start and stop, delta = (stop - start)/(4-1)\n",
    "lin2 = tf.range(2, 18, 5)  #  包含start, 不包含limit\n",
    "lin3 = tf.range(5)\n",
    "\n",
    "with tf.Session() as sess:\n",
    "    print('c=')\n",
    "    print(sess.run(c))\n",
    "    print('')\n",
    "    \n",
    "    print('d=')\n",
    "    print(sess.run(d))\n",
    "    print('')\n",
    "\n",
    "    print('y=')\n",
    "    print(sess.run(y))\n",
    "    print('')\n",
    "    \n",
    "    print('z1=')\n",
    "    print(sess.run(z1))\n",
    "    print('')\n",
    "    \n",
    "    print('z2=')\n",
    "    print(sess.run(z2))\n",
    "    print('')\n",
    "    \n",
    "    print('o1=')\n",
    "    print(sess.run(o1))\n",
    "    print('')\n",
    "\n",
    "    print('o2=')\n",
    "    print(sess.run(o2))\n",
    "    print('') \n",
    "    \n",
    "    print('o3=')\n",
    "    print(sess.run(o3))\n",
    "    print('')      \n",
    "    \n",
    "    print('lin1=')\n",
    "    print(sess.run(lin1))\n",
    "    print('') \n",
    "    \n",
    "    print('lin2=')\n",
    "    print(sess.run(lin2))\n",
    "    print('') \n",
    "    \n",
    "    print('lin3=')\n",
    "    print(sess.run(lin3))\n",
    "    print('')     "
   ]
  },
  {
   "cell_type": "markdown",
   "metadata": {},
   "source": [
    "# TensorFlow随机常量(Randomly Constants)\n",
    "\n",
    " - tf.set_random_seed(seed)\n",
    "  - 随机数据生成由两类种子决定：图形级别和操作级别种子（graph-level and operation-level seeds）. 此函数设置图形级别种子。如果两类种子都没有设置，则使用随机种子；如果只设置了一类种子，则系统指定另一类种子，结果两类种子联合产生随机数；如果两类都设置了，则两类种子联合产生随机数。\n",
    "  - 每次在不同的Session中产生同样的值\n",
    "  \n",
    " - tf.random_normal(shape, mean=0.0, stddev=1.0, dtype=tf.float32, seed=None, name=None）\n",
    "  - 生成的数据满足随机正态分布的张量。 mean： 均值；stddev： 标准偏差 (standard deviation)\n",
    " \n",
    " - tf.truncated_normal\n",
    " - tf.random_uniform\n",
    " - tf.random_shuffle\n",
    " - tf.random_shuffle\n",
    " - tf.multinomial\n",
    " - tf.random_gamma"
   ]
  },
  {
   "cell_type": "code",
   "execution_count": 33,
   "metadata": {},
   "outputs": [
    {
     "name": "stdout",
     "output_type": "stream",
     "text": [
      "Session 1:\n",
      "[0.22184324]\n",
      "[0.657496]\n",
      "[0.16013037]\n",
      "[-1.5171251]\n",
      "Session 2:\n",
      "[0.22184324]\n",
      "[0.657496]\n",
      "[0.16013037]\n",
      "[-1.5171251]\n"
     ]
    }
   ],
   "source": [
    "import tensorflow as tf\n",
    "\n",
    "tf.set_random_seed(1234)  \n",
    "a = tf.random_uniform([1])\n",
    "b = tf.random_normal([1])\n",
    "\n",
    "print(\"Session 1:\")\n",
    "with tf.Session() as sess1:\n",
    "  print(sess1.run(a))  # generates 'A1'\n",
    "  print(sess1.run(a))  # generates 'A2'\n",
    "  print(sess1.run(b))  # generates 'B1'\n",
    "  print(sess1.run(b))  # generates 'B2'\n",
    "\n",
    "print(\"Session 2:\")\n",
    "with tf.Session() as sess2:\n",
    "  print(sess2.run(a))  # generates 'A3'\n",
    "  print(sess2.run(a))  # generates 'A4'\n",
    "  print(sess2.run(b))  # generates 'B3'\n",
    "  print(sess2.run(b))  # generates 'B4'\n"
   ]
  },
  {
   "cell_type": "code",
   "execution_count": null,
   "metadata": {},
   "outputs": [],
   "source": []
  }
 ],
 "metadata": {
  "kernelspec": {
   "display_name": "Python 3",
   "language": "python",
   "name": "python3"
  },
  "language_info": {
   "codemirror_mode": {
    "name": "ipython",
    "version": 3
   },
   "file_extension": ".py",
   "mimetype": "text/x-python",
   "name": "python",
   "nbconvert_exporter": "python",
   "pygments_lexer": "ipython3",
   "version": "3.5.2"
  }
 },
 "nbformat": 4,
 "nbformat_minor": 2
}
